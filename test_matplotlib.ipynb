{
 "cells": [
  {
   "cell_type": "code",
   "execution_count": null,
   "id": "124dd4ee",
   "metadata": {},
   "outputs": [],
   "source": [
    "%matplotlib inline \n",
    "import numpy as np\n",
    "import matplotlib.pyplot as plt"
   ]
  },
  {
   "cell_type": "code",
   "execution_count": null,
   "id": "aedb8ac0",
   "metadata": {},
   "outputs": [],
   "source": [
    "x = np.arange(0, 5 , 0.1) #create x= [0..5] in 0.1 increments\n",
    "y = np.sin(x)             # y = sin(x)\n",
    "plt.plot(x,y)             #make a plot\n",
    "plt.xlabel('x')           #label x axis\n",
    "plt.ylabel('y')           #label y axis \n",
    "plt.show()                #show plot on screen"
   ]
  },
  {
   "cell_type": "code",
   "execution_count": null,
   "id": "5bde272f",
   "metadata": {},
   "outputs": [],
   "source": [
    "x = np.arange(0, 5 , 0.1) #create x= [0..5] in 0.1 increments\n",
    "y = np.sin(x)             # y = sin(x)\n",
    "plt.plot(x,y)             #make a plot\n",
    "plt.xlabel('x')           #label x axis\n",
    "plt.ylabel('y')           #label y axis \n",
    "plt.savefig('sinx.png', bbox_inches= 'tight',dpi=600)                #save "
   ]
  },
  {
   "cell_type": "code",
   "execution_count": null,
   "id": "88b2d7d8",
   "metadata": {},
   "outputs": [],
   "source": []
  }
 ],
 "metadata": {
  "kernelspec": {
   "display_name": "Python 3 (ipykernel)",
   "language": "python",
   "name": "python3"
  },
  "language_info": {
   "codemirror_mode": {
    "name": "ipython",
    "version": 3
   },
   "file_extension": ".py",
   "mimetype": "text/x-python",
   "name": "python",
   "nbconvert_exporter": "python",
   "pygments_lexer": "ipython3",
   "version": "3.8.2"
  }
 },
 "nbformat": 4,
 "nbformat_minor": 5
}
